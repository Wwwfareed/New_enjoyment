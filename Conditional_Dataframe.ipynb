{
 "cells": [
  {
   "cell_type": "code",
   "execution_count": 41,
   "id": "bd351ca7",
   "metadata": {},
   "outputs": [],
   "source": [
    "import pandas as pd\n",
    "import datetime as dt\n",
    "from datetime import time\n",
    "import numpy as np\n",
    "import dateutil"
   ]
  },
  {
   "cell_type": "code",
   "execution_count": 42,
   "id": "09173ce6",
   "metadata": {},
   "outputs": [],
   "source": [
    "hld=pd.DataFrame()"
   ]
  },
  {
   "cell_type": "code",
   "execution_count": 43,
   "id": "fda9716f",
   "metadata": {},
   "outputs": [],
   "source": [
    "hld1=pd.read_excel('D:\\\\FB\\\\PY\\\\SAL\\\\Insertrow.xlsx')"
   ]
  },
  {
   "cell_type": "code",
   "execution_count": 44,
   "id": "edb7276a",
   "metadata": {},
   "outputs": [],
   "source": [
    "#hld1[['1b', '2b', '3b', '4b', '5b']]=hld1[['1b', '2b', '3b', '4b', '5b']].apply(pd.to_datetime, errors='coerce', format ='%H:%M:S%')"
   ]
  },
  {
   "cell_type": "code",
   "execution_count": 45,
   "id": "c1161533",
   "metadata": {},
   "outputs": [],
   "source": [
    "Shift=\"\""
   ]
  },
  {
   "cell_type": "markdown",
   "id": "d2c83be4",
   "metadata": {},
   "source": [
    "##  Date variable is created for todays date"
   ]
  },
  {
   "cell_type": "code",
   "execution_count": 71,
   "id": "80c63d87",
   "metadata": {},
   "outputs": [],
   "source": [
    "ts=datetime.datetime.today()"
   ]
  },
  {
   "cell_type": "markdown",
   "id": "c316f513",
   "metadata": {},
   "source": [
    "## Offsets.MonthEnd is used to get the month end date"
   ]
  },
  {
   "cell_type": "code",
   "execution_count": 72,
   "id": "4a0d1172",
   "metadata": {},
   "outputs": [],
   "source": [
    "pm2=ts-pd.offsets.MonthEnd(n=1)"
   ]
  },
  {
   "cell_type": "markdown",
   "id": "edecb4fa",
   "metadata": {},
   "source": [
    "## Offsets.MonthBegin is used to get the month Begin date"
   ]
  },
  {
   "cell_type": "code",
   "execution_count": 65,
   "id": "5bbc580d",
   "metadata": {},
   "outputs": [],
   "source": [
    "pm1=pm2-pd.offsets.MonthBegin(n=1)"
   ]
  },
  {
   "cell_type": "code",
   "execution_count": 49,
   "id": "8a3d1ee9",
   "metadata": {},
   "outputs": [],
   "source": [
    "#pm=dt.date(ts.year,ts.month-1,1)"
   ]
  },
  {
   "cell_type": "markdown",
   "id": "23427ae1",
   "metadata": {},
   "source": [
    "## Use date range to generate list of dates between two dates"
   ]
  },
  {
   "cell_type": "code",
   "execution_count": 77,
   "id": "7ff1b699",
   "metadata": {},
   "outputs": [],
   "source": [
    "aa=pd.date_range(pm1,pm2)"
   ]
  },
  {
   "cell_type": "markdown",
   "id": "18476f59",
   "metadata": {},
   "source": [
    "## len is used to calculate the number of entries generated in range"
   ]
  },
  {
   "cell_type": "code",
   "execution_count": 78,
   "id": "5f2c9399",
   "metadata": {},
   "outputs": [
    {
     "data": {
      "text/plain": [
       "30"
      ]
     },
     "execution_count": 78,
     "metadata": {},
     "output_type": "execute_result"
    }
   ],
   "source": [
    "len(pd.date_range(pm1,pm2))"
   ]
  },
  {
   "cell_type": "code",
   "execution_count": 83,
   "id": "1830c9b3",
   "metadata": {},
   "outputs": [
    {
     "ename": "NameError",
     "evalue": "name 'df' is not defined",
     "output_type": "error",
     "traceback": [
      "\u001b[1;31m---------------------------------------------------------------------------\u001b[0m",
      "\u001b[1;31mNameError\u001b[0m                                 Traceback (most recent call last)",
      "\u001b[1;32mC:\\Users\\AFROZE~1\\AppData\\Local\\Temp/ipykernel_12120/2434450578.py\u001b[0m in \u001b[0;36m<module>\u001b[1;34m\u001b[0m\n\u001b[1;32m----> 1\u001b[1;33m \u001b[0mdf\u001b[0m\u001b[1;33m[\u001b[0m\u001b[1;34m'aa'\u001b[0m\u001b[1;33m]\u001b[0m\u001b[1;33m\u001b[0m\u001b[1;33m\u001b[0m\u001b[0m\n\u001b[0m",
      "\u001b[1;31mNameError\u001b[0m: name 'df' is not defined"
     ]
    }
   ],
   "source": []
  },
  {
   "cell_type": "code",
   "execution_count": null,
   "id": "779b662f",
   "metadata": {},
   "outputs": [],
   "source": []
  }
 ],
 "metadata": {
  "kernelspec": {
   "display_name": "Python 3 (ipykernel)",
   "language": "python",
   "name": "python3"
  },
  "language_info": {
   "codemirror_mode": {
    "name": "ipython",
    "version": 3
   },
   "file_extension": ".py",
   "mimetype": "text/x-python",
   "name": "python",
   "nbconvert_exporter": "python",
   "pygments_lexer": "ipython3",
   "version": "3.9.7"
  },
  "toc": {
   "base_numbering": 1,
   "nav_menu": {},
   "number_sections": true,
   "sideBar": true,
   "skip_h1_title": false,
   "title_cell": "Table of Contents",
   "title_sidebar": "Contents",
   "toc_cell": false,
   "toc_position": {},
   "toc_section_display": true,
   "toc_window_display": true
  }
 },
 "nbformat": 4,
 "nbformat_minor": 5
}
