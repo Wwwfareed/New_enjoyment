{
 "cells": [
  {
   "cell_type": "markdown",
   "id": "f646e3ca",
   "metadata": {},
   "source": [
    "### This is to automate dowm load of Trello data"
   ]
  },
  {
   "cell_type": "code",
   "execution_count": 1,
   "id": "153b6ad3",
   "metadata": {},
   "outputs": [],
   "source": [
    "import pyautogui as ao\n",
    "import openpyxl as fo\n",
    "import re\n",
    "import glob\n",
    "import time"
   ]
  },
  {
   "cell_type": "code",
   "execution_count": 2,
   "id": "f917b5e0",
   "metadata": {},
   "outputs": [],
   "source": [
    "time.sleep(3)"
   ]
  },
  {
   "cell_type": "code",
   "execution_count": 34,
   "id": "eba76c0f",
   "metadata": {},
   "outputs": [
    {
     "ename": "FileNotFoundError",
     "evalue": "[Errno 2] No such file or directory: 'D:\\\\FB\\\\PY\\\\fb.png'",
     "output_type": "error",
     "traceback": [
      "\u001b[1;31m---------------------------------------------------------------------------\u001b[0m",
      "\u001b[1;31mFileNotFoundError\u001b[0m                         Traceback (most recent call last)",
      "\u001b[1;32mC:\\Users\\AFROZE~1\\AppData\\Local\\Temp/ipykernel_812/470448405.py\u001b[0m in \u001b[0;36m<module>\u001b[1;34m\u001b[0m\n\u001b[1;32m----> 1\u001b[1;33m \u001b[0mloc\u001b[0m\u001b[1;33m=\u001b[0m\u001b[0mao\u001b[0m\u001b[1;33m.\u001b[0m\u001b[0mlocateCenterOnScreen\u001b[0m\u001b[1;33m(\u001b[0m\u001b[1;34mr\"D:\\FB\\PY\\fb.png\"\u001b[0m\u001b[1;33m)\u001b[0m\u001b[1;33m\u001b[0m\u001b[1;33m\u001b[0m\u001b[0m\n\u001b[0m",
      "\u001b[1;32mC:\\ProgramData\\Anaconda3\\lib\\site-packages\\pyautogui\\__init__.py\u001b[0m in \u001b[0;36mwrapper\u001b[1;34m(*args, **kwargs)\u001b[0m\n\u001b[0;32m    173\u001b[0m     \u001b[1;32mdef\u001b[0m \u001b[0mwrapper\u001b[0m\u001b[1;33m(\u001b[0m\u001b[1;33m*\u001b[0m\u001b[0margs\u001b[0m\u001b[1;33m,\u001b[0m \u001b[1;33m**\u001b[0m\u001b[0mkwargs\u001b[0m\u001b[1;33m)\u001b[0m\u001b[1;33m:\u001b[0m\u001b[1;33m\u001b[0m\u001b[1;33m\u001b[0m\u001b[0m\n\u001b[0;32m    174\u001b[0m         \u001b[1;32mtry\u001b[0m\u001b[1;33m:\u001b[0m\u001b[1;33m\u001b[0m\u001b[1;33m\u001b[0m\u001b[0m\n\u001b[1;32m--> 175\u001b[1;33m             \u001b[1;32mreturn\u001b[0m \u001b[0mwrappedFunction\u001b[0m\u001b[1;33m(\u001b[0m\u001b[1;33m*\u001b[0m\u001b[0margs\u001b[0m\u001b[1;33m,\u001b[0m \u001b[1;33m**\u001b[0m\u001b[0mkwargs\u001b[0m\u001b[1;33m)\u001b[0m\u001b[1;33m\u001b[0m\u001b[1;33m\u001b[0m\u001b[0m\n\u001b[0m\u001b[0;32m    176\u001b[0m         \u001b[1;32mexcept\u001b[0m \u001b[0mpyscreeze\u001b[0m\u001b[1;33m.\u001b[0m\u001b[0mImageNotFoundException\u001b[0m\u001b[1;33m:\u001b[0m\u001b[1;33m\u001b[0m\u001b[1;33m\u001b[0m\u001b[0m\n\u001b[0;32m    177\u001b[0m             \u001b[1;32mraise\u001b[0m \u001b[0mImageNotFoundException\u001b[0m  \u001b[1;31m# Raise PyAutoGUI's ImageNotFoundException.\u001b[0m\u001b[1;33m\u001b[0m\u001b[1;33m\u001b[0m\u001b[0m\n",
      "\u001b[1;32mC:\\ProgramData\\Anaconda3\\lib\\site-packages\\pyautogui\\__init__.py\u001b[0m in \u001b[0;36mlocateCenterOnScreen\u001b[1;34m(*args, **kwargs)\u001b[0m\n\u001b[0;32m    205\u001b[0m     \u001b[1;33m@\u001b[0m\u001b[0mraisePyAutoGUIImageNotFoundException\u001b[0m\u001b[1;33m\u001b[0m\u001b[1;33m\u001b[0m\u001b[0m\n\u001b[0;32m    206\u001b[0m     \u001b[1;32mdef\u001b[0m \u001b[0mlocateCenterOnScreen\u001b[0m\u001b[1;33m(\u001b[0m\u001b[1;33m*\u001b[0m\u001b[0margs\u001b[0m\u001b[1;33m,\u001b[0m \u001b[1;33m**\u001b[0m\u001b[0mkwargs\u001b[0m\u001b[1;33m)\u001b[0m\u001b[1;33m:\u001b[0m\u001b[1;33m\u001b[0m\u001b[1;33m\u001b[0m\u001b[0m\n\u001b[1;32m--> 207\u001b[1;33m         \u001b[1;32mreturn\u001b[0m \u001b[0mpyscreeze\u001b[0m\u001b[1;33m.\u001b[0m\u001b[0mlocateCenterOnScreen\u001b[0m\u001b[1;33m(\u001b[0m\u001b[1;33m*\u001b[0m\u001b[0margs\u001b[0m\u001b[1;33m,\u001b[0m \u001b[1;33m**\u001b[0m\u001b[0mkwargs\u001b[0m\u001b[1;33m)\u001b[0m\u001b[1;33m\u001b[0m\u001b[1;33m\u001b[0m\u001b[0m\n\u001b[0m\u001b[0;32m    208\u001b[0m \u001b[1;33m\u001b[0m\u001b[0m\n\u001b[0;32m    209\u001b[0m     \u001b[0mlocateCenterOnScreen\u001b[0m\u001b[1;33m.\u001b[0m\u001b[0m__doc__\u001b[0m \u001b[1;33m=\u001b[0m \u001b[0mpyscreeze\u001b[0m\u001b[1;33m.\u001b[0m\u001b[0mlocateCenterOnScreen\u001b[0m\u001b[1;33m.\u001b[0m\u001b[0m__doc__\u001b[0m\u001b[1;33m\u001b[0m\u001b[1;33m\u001b[0m\u001b[0m\n",
      "\u001b[1;32mC:\\ProgramData\\Anaconda3\\lib\\site-packages\\pyscreeze\\__init__.py\u001b[0m in \u001b[0;36mlocateCenterOnScreen\u001b[1;34m(image, **kwargs)\u001b[0m\n\u001b[0;32m    411\u001b[0m     \u001b[0mTODO\u001b[0m\u001b[1;33m\u001b[0m\u001b[1;33m\u001b[0m\u001b[0m\n\u001b[0;32m    412\u001b[0m     \"\"\"\n\u001b[1;32m--> 413\u001b[1;33m     \u001b[0mcoords\u001b[0m \u001b[1;33m=\u001b[0m \u001b[0mlocateOnScreen\u001b[0m\u001b[1;33m(\u001b[0m\u001b[0mimage\u001b[0m\u001b[1;33m,\u001b[0m \u001b[1;33m**\u001b[0m\u001b[0mkwargs\u001b[0m\u001b[1;33m)\u001b[0m\u001b[1;33m\u001b[0m\u001b[1;33m\u001b[0m\u001b[0m\n\u001b[0m\u001b[0;32m    414\u001b[0m     \u001b[1;32mif\u001b[0m \u001b[0mcoords\u001b[0m \u001b[1;32mis\u001b[0m \u001b[1;32mNone\u001b[0m\u001b[1;33m:\u001b[0m\u001b[1;33m\u001b[0m\u001b[1;33m\u001b[0m\u001b[0m\n\u001b[0;32m    415\u001b[0m         \u001b[1;32mreturn\u001b[0m \u001b[1;32mNone\u001b[0m\u001b[1;33m\u001b[0m\u001b[1;33m\u001b[0m\u001b[0m\n",
      "\u001b[1;32mC:\\ProgramData\\Anaconda3\\lib\\site-packages\\pyscreeze\\__init__.py\u001b[0m in \u001b[0;36mlocateOnScreen\u001b[1;34m(image, minSearchTime, **kwargs)\u001b[0m\n\u001b[0;32m    371\u001b[0m         \u001b[1;32mtry\u001b[0m\u001b[1;33m:\u001b[0m\u001b[1;33m\u001b[0m\u001b[1;33m\u001b[0m\u001b[0m\n\u001b[0;32m    372\u001b[0m             \u001b[0mscreenshotIm\u001b[0m \u001b[1;33m=\u001b[0m \u001b[0mscreenshot\u001b[0m\u001b[1;33m(\u001b[0m\u001b[0mregion\u001b[0m\u001b[1;33m=\u001b[0m\u001b[1;32mNone\u001b[0m\u001b[1;33m)\u001b[0m \u001b[1;31m# the locateAll() function must handle cropping to return accurate coordinates, so don't pass a region here.\u001b[0m\u001b[1;33m\u001b[0m\u001b[1;33m\u001b[0m\u001b[0m\n\u001b[1;32m--> 373\u001b[1;33m             \u001b[0mretVal\u001b[0m \u001b[1;33m=\u001b[0m \u001b[0mlocate\u001b[0m\u001b[1;33m(\u001b[0m\u001b[0mimage\u001b[0m\u001b[1;33m,\u001b[0m \u001b[0mscreenshotIm\u001b[0m\u001b[1;33m,\u001b[0m \u001b[1;33m**\u001b[0m\u001b[0mkwargs\u001b[0m\u001b[1;33m)\u001b[0m\u001b[1;33m\u001b[0m\u001b[1;33m\u001b[0m\u001b[0m\n\u001b[0m\u001b[0;32m    374\u001b[0m             \u001b[1;32mtry\u001b[0m\u001b[1;33m:\u001b[0m\u001b[1;33m\u001b[0m\u001b[1;33m\u001b[0m\u001b[0m\n\u001b[0;32m    375\u001b[0m                 \u001b[0mscreenshotIm\u001b[0m\u001b[1;33m.\u001b[0m\u001b[0mfp\u001b[0m\u001b[1;33m.\u001b[0m\u001b[0mclose\u001b[0m\u001b[1;33m(\u001b[0m\u001b[1;33m)\u001b[0m\u001b[1;33m\u001b[0m\u001b[1;33m\u001b[0m\u001b[0m\n",
      "\u001b[1;32mC:\\ProgramData\\Anaconda3\\lib\\site-packages\\pyscreeze\\__init__.py\u001b[0m in \u001b[0;36mlocate\u001b[1;34m(needleImage, haystackImage, **kwargs)\u001b[0m\n\u001b[0;32m    351\u001b[0m     \u001b[1;31m# Note: The gymnastics in this function is because we want to make sure to exhaust the iterator so that the needle and haystack files are closed in locateAll.\u001b[0m\u001b[1;33m\u001b[0m\u001b[1;33m\u001b[0m\u001b[0m\n\u001b[0;32m    352\u001b[0m     \u001b[0mkwargs\u001b[0m\u001b[1;33m[\u001b[0m\u001b[1;34m'limit'\u001b[0m\u001b[1;33m]\u001b[0m \u001b[1;33m=\u001b[0m \u001b[1;36m1\u001b[0m\u001b[1;33m\u001b[0m\u001b[1;33m\u001b[0m\u001b[0m\n\u001b[1;32m--> 353\u001b[1;33m     \u001b[0mpoints\u001b[0m \u001b[1;33m=\u001b[0m \u001b[0mtuple\u001b[0m\u001b[1;33m(\u001b[0m\u001b[0mlocateAll\u001b[0m\u001b[1;33m(\u001b[0m\u001b[0mneedleImage\u001b[0m\u001b[1;33m,\u001b[0m \u001b[0mhaystackImage\u001b[0m\u001b[1;33m,\u001b[0m \u001b[1;33m**\u001b[0m\u001b[0mkwargs\u001b[0m\u001b[1;33m)\u001b[0m\u001b[1;33m)\u001b[0m\u001b[1;33m\u001b[0m\u001b[1;33m\u001b[0m\u001b[0m\n\u001b[0m\u001b[0;32m    354\u001b[0m     \u001b[1;32mif\u001b[0m \u001b[0mlen\u001b[0m\u001b[1;33m(\u001b[0m\u001b[0mpoints\u001b[0m\u001b[1;33m)\u001b[0m \u001b[1;33m>\u001b[0m \u001b[1;36m0\u001b[0m\u001b[1;33m:\u001b[0m\u001b[1;33m\u001b[0m\u001b[1;33m\u001b[0m\u001b[0m\n\u001b[0;32m    355\u001b[0m         \u001b[1;32mreturn\u001b[0m \u001b[0mpoints\u001b[0m\u001b[1;33m[\u001b[0m\u001b[1;36m0\u001b[0m\u001b[1;33m]\u001b[0m\u001b[1;33m\u001b[0m\u001b[1;33m\u001b[0m\u001b[0m\n",
      "\u001b[1;32mC:\\ProgramData\\Anaconda3\\lib\\site-packages\\pyscreeze\\__init__.py\u001b[0m in \u001b[0;36m_locateAll_python\u001b[1;34m(needleImage, haystackImage, grayscale, limit, region, step, confidence)\u001b[0m\n\u001b[0;32m    260\u001b[0m     \u001b[1;32mif\u001b[0m \u001b[0misinstance\u001b[0m\u001b[1;33m(\u001b[0m\u001b[0mneedleImage\u001b[0m\u001b[1;33m,\u001b[0m \u001b[1;33m(\u001b[0m\u001b[0mstr\u001b[0m\u001b[1;33m,\u001b[0m \u001b[0municode\u001b[0m\u001b[1;33m)\u001b[0m\u001b[1;33m)\u001b[0m\u001b[1;33m:\u001b[0m\u001b[1;33m\u001b[0m\u001b[1;33m\u001b[0m\u001b[0m\n\u001b[0;32m    261\u001b[0m         \u001b[1;31m# 'image' is a filename, load the Image object\u001b[0m\u001b[1;33m\u001b[0m\u001b[1;33m\u001b[0m\u001b[0m\n\u001b[1;32m--> 262\u001b[1;33m         \u001b[0mneedleFileObj\u001b[0m \u001b[1;33m=\u001b[0m \u001b[0mopen\u001b[0m\u001b[1;33m(\u001b[0m\u001b[0mneedleImage\u001b[0m\u001b[1;33m,\u001b[0m \u001b[1;34m'rb'\u001b[0m\u001b[1;33m)\u001b[0m\u001b[1;33m\u001b[0m\u001b[1;33m\u001b[0m\u001b[0m\n\u001b[0m\u001b[0;32m    263\u001b[0m         \u001b[0mneedleImage\u001b[0m \u001b[1;33m=\u001b[0m \u001b[0mImage\u001b[0m\u001b[1;33m.\u001b[0m\u001b[0mopen\u001b[0m\u001b[1;33m(\u001b[0m\u001b[0mneedleFileObj\u001b[0m\u001b[1;33m)\u001b[0m\u001b[1;33m\u001b[0m\u001b[1;33m\u001b[0m\u001b[0m\n\u001b[0;32m    264\u001b[0m \u001b[1;33m\u001b[0m\u001b[0m\n",
      "\u001b[1;31mFileNotFoundError\u001b[0m: [Errno 2] No such file or directory: 'D:\\\\FB\\\\PY\\\\fb.png'"
     ]
    }
   ],
   "source": [
    "loc=ao.locateCenterOnScreen(r\"D:\\FB\\PY\\fb.png\")"
   ]
  },
  {
   "cell_type": "code",
   "execution_count": null,
   "id": "6fc310f8",
   "metadata": {},
   "outputs": [],
   "source": []
  },
  {
   "cell_type": "code",
   "execution_count": 3,
   "id": "26d920b8",
   "metadata": {},
   "outputs": [],
   "source": [
    "#print(ao.position())"
   ]
  },
  {
   "cell_type": "code",
   "execution_count": 4,
   "id": "e5c0233f",
   "metadata": {},
   "outputs": [],
   "source": [
    "#ao.hotkey(\"ctrl\",\"t\")"
   ]
  },
  {
   "cell_type": "code",
   "execution_count": 5,
   "id": "f01657b7",
   "metadata": {},
   "outputs": [],
   "source": [
    "#time.sleep(7)"
   ]
  },
  {
   "cell_type": "code",
   "execution_count": 6,
   "id": "93633906",
   "metadata": {},
   "outputs": [],
   "source": [
    "#ao.write(\"https://trello.com/b/0GSvS0Z4/aslam-enterprises\")"
   ]
  },
  {
   "cell_type": "code",
   "execution_count": 7,
   "id": "fd59b77f",
   "metadata": {},
   "outputs": [],
   "source": [
    "#ao.hotkey(\"enter\")"
   ]
  },
  {
   "cell_type": "code",
   "execution_count": 8,
   "id": "dc262254",
   "metadata": {},
   "outputs": [],
   "source": [
    "#ao.moveTo(814,763)"
   ]
  },
  {
   "cell_type": "code",
   "execution_count": 9,
   "id": "d57cecf7",
   "metadata": {},
   "outputs": [],
   "source": [
    "#ao.click(814,763,1,1,button=\"left\")"
   ]
  },
  {
   "cell_type": "code",
   "execution_count": 10,
   "id": "f9fea9ec",
   "metadata": {},
   "outputs": [],
   "source": [
    "#ao.moveTo(574,747)"
   ]
  },
  {
   "cell_type": "code",
   "execution_count": 11,
   "id": "527fd195",
   "metadata": {},
   "outputs": [],
   "source": [
    "#ao.click(574,747,2,1, button='left')"
   ]
  },
  {
   "cell_type": "code",
   "execution_count": 12,
   "id": "a02915c3",
   "metadata": {},
   "outputs": [],
   "source": [
    "#ao.moveTo(995,301)"
   ]
  },
  {
   "cell_type": "code",
   "execution_count": 13,
   "id": "fdf6e5d8",
   "metadata": {},
   "outputs": [],
   "source": [
    "#ao.click(995,301,2,1, button='left')"
   ]
  },
  {
   "cell_type": "code",
   "execution_count": 14,
   "id": "cdaf91b0",
   "metadata": {},
   "outputs": [],
   "source": [
    "#ao.moveTo(747,12)"
   ]
  },
  {
   "cell_type": "code",
   "execution_count": 15,
   "id": "3c481b77",
   "metadata": {},
   "outputs": [],
   "source": [
    "#ao.click(747,12,2,1, button='left')"
   ]
  },
  {
   "cell_type": "code",
   "execution_count": 16,
   "id": "b7d1059a",
   "metadata": {},
   "outputs": [],
   "source": [
    "#ao.moveTo(1312,52)"
   ]
  },
  {
   "cell_type": "code",
   "execution_count": 17,
   "id": "a6c46fb3",
   "metadata": {},
   "outputs": [],
   "source": [
    "#ao.click(1312,52,1,1, button='left')"
   ]
  },
  {
   "cell_type": "code",
   "execution_count": 18,
   "id": "d48942eb",
   "metadata": {},
   "outputs": [],
   "source": [
    "#ao.moveTo(1213,486)"
   ]
  },
  {
   "cell_type": "code",
   "execution_count": 19,
   "id": "90b42ba8",
   "metadata": {},
   "outputs": [],
   "source": [
    "#ao.click(1213,486,1,1, button='left')"
   ]
  },
  {
   "cell_type": "code",
   "execution_count": 20,
   "id": "7f8a7c5d",
   "metadata": {},
   "outputs": [],
   "source": [
    "#ao.moveTo(198,88)"
   ]
  },
  {
   "cell_type": "code",
   "execution_count": 21,
   "id": "8f4f9524",
   "metadata": {},
   "outputs": [],
   "source": [
    "#ao.click(198,88,2,1, button='left')"
   ]
  },
  {
   "cell_type": "code",
   "execution_count": 22,
   "id": "8d43d442",
   "metadata": {},
   "outputs": [],
   "source": [
    "#time.sleep(19)"
   ]
  },
  {
   "cell_type": "code",
   "execution_count": 23,
   "id": "4812f40a",
   "metadata": {},
   "outputs": [],
   "source": [
    "#ao.moveTo(1343,188)"
   ]
  },
  {
   "cell_type": "code",
   "execution_count": 24,
   "id": "9235ab44",
   "metadata": {},
   "outputs": [],
   "source": [
    "#time.sleep(23)"
   ]
  },
  {
   "cell_type": "code",
   "execution_count": 25,
   "id": "db08c899",
   "metadata": {},
   "outputs": [],
   "source": [
    "#ao.click(1343,184,1, button='left')"
   ]
  },
  {
   "cell_type": "code",
   "execution_count": 26,
   "id": "6988345d",
   "metadata": {},
   "outputs": [],
   "source": [
    "#time.sleep(3)"
   ]
  },
  {
   "cell_type": "code",
   "execution_count": 27,
   "id": "80c37e1f",
   "metadata": {},
   "outputs": [],
   "source": [
    "#ao.moveTo(1201,353)"
   ]
  },
  {
   "cell_type": "code",
   "execution_count": 28,
   "id": "bc135542",
   "metadata": {},
   "outputs": [],
   "source": [
    "#ao.click(1301,353,1,1, button='left')"
   ]
  },
  {
   "cell_type": "code",
   "execution_count": 29,
   "id": "49e11c06",
   "metadata": {},
   "outputs": [],
   "source": [
    "#time.sleep(6)"
   ]
  },
  {
   "cell_type": "code",
   "execution_count": 30,
   "id": "6d4d2f26",
   "metadata": {},
   "outputs": [],
   "source": [
    "#ao.position()"
   ]
  },
  {
   "cell_type": "code",
   "execution_count": 31,
   "id": "54ccd779",
   "metadata": {},
   "outputs": [],
   "source": [
    "#ao.moveTo(1324,512)"
   ]
  },
  {
   "cell_type": "code",
   "execution_count": 32,
   "id": "a3e0be3f",
   "metadata": {},
   "outputs": [],
   "source": [
    "#ao.click(1324,512,1,1, button='left')"
   ]
  }
 ],
 "metadata": {
  "kernelspec": {
   "display_name": "Python 3 (ipykernel)",
   "language": "python",
   "name": "python3"
  },
  "language_info": {
   "codemirror_mode": {
    "name": "ipython",
    "version": 3
   },
   "file_extension": ".py",
   "mimetype": "text/x-python",
   "name": "python",
   "nbconvert_exporter": "python",
   "pygments_lexer": "ipython3",
   "version": "3.9.7"
  },
  "toc": {
   "base_numbering": 1,
   "nav_menu": {},
   "number_sections": true,
   "sideBar": true,
   "skip_h1_title": false,
   "title_cell": "Table of Contents",
   "title_sidebar": "Contents",
   "toc_cell": false,
   "toc_position": {},
   "toc_section_display": true,
   "toc_window_display": true
  }
 },
 "nbformat": 4,
 "nbformat_minor": 5
}
