{
 "cells": [
  {
   "cell_type": "code",
   "execution_count": 1,
   "id": "5c6a9a88",
   "metadata": {},
   "outputs": [],
   "source": [
    "import pandas as pd"
   ]
  },
  {
   "cell_type": "code",
   "execution_count": 2,
   "id": "7e7c8b0a",
   "metadata": {},
   "outputs": [],
   "source": [
    "subheads = pd.read_excel('D:\\FB\\PY\\REPEAT SUBHEADS.xlsx')"
   ]
  },
  {
   "cell_type": "code",
   "execution_count": 3,
   "id": "8773f6dc",
   "metadata": {},
   "outputs": [],
   "source": [
    "subhd=pd.DataFrame(subheads)"
   ]
  },
  {
   "cell_type": "code",
   "execution_count": 4,
   "id": "a716bf8b",
   "metadata": {},
   "outputs": [
    {
     "name": "stdout",
     "output_type": "stream",
     "text": [
      "       A   B\n",
      "0    BOB  10\n",
      "1    NaN  20\n",
      "2    NaN  30\n",
      "3  BOBBY  40\n",
      "4    NaN  50\n",
      "5    NaN  60\n"
     ]
    }
   ],
   "source": [
    "print(subhd)"
   ]
  },
  {
   "cell_type": "code",
   "execution_count": 5,
   "id": "9eaa9f08",
   "metadata": {},
   "outputs": [],
   "source": [
    "#hold=subhd.loc[0,\"A\"]"
   ]
  },
  {
   "cell_type": "code",
   "execution_count": 6,
   "id": "f48256d1",
   "metadata": {},
   "outputs": [],
   "source": [
    "#if subhd.loc[1,\"A\"]!=\"nan\":\n",
    "    subhd.fillna({\"A\":hold})\n",
    "else:\n",
    "    pass    "
   ]
  },
  {
   "cell_type": "markdown",
   "id": "94b58590",
   "metadata": {},
   "source": [
    "## Using forward fill method"
   ]
  },
  {
   "cell_type": "code",
   "execution_count": 8,
   "id": "4e0e2731",
   "metadata": {},
   "outputs": [
    {
     "data": {
      "text/html": [
       "<div>\n",
       "<style scoped>\n",
       "    .dataframe tbody tr th:only-of-type {\n",
       "        vertical-align: middle;\n",
       "    }\n",
       "\n",
       "    .dataframe tbody tr th {\n",
       "        vertical-align: top;\n",
       "    }\n",
       "\n",
       "    .dataframe thead th {\n",
       "        text-align: right;\n",
       "    }\n",
       "</style>\n",
       "<table border=\"1\" class=\"dataframe\">\n",
       "  <thead>\n",
       "    <tr style=\"text-align: right;\">\n",
       "      <th></th>\n",
       "      <th>A</th>\n",
       "      <th>B</th>\n",
       "    </tr>\n",
       "  </thead>\n",
       "  <tbody>\n",
       "    <tr>\n",
       "      <th>0</th>\n",
       "      <td>BOB</td>\n",
       "      <td>10</td>\n",
       "    </tr>\n",
       "    <tr>\n",
       "      <th>1</th>\n",
       "      <td>BOB</td>\n",
       "      <td>20</td>\n",
       "    </tr>\n",
       "    <tr>\n",
       "      <th>2</th>\n",
       "      <td>BOB</td>\n",
       "      <td>30</td>\n",
       "    </tr>\n",
       "    <tr>\n",
       "      <th>3</th>\n",
       "      <td>BOBBY</td>\n",
       "      <td>40</td>\n",
       "    </tr>\n",
       "    <tr>\n",
       "      <th>4</th>\n",
       "      <td>BOBBY</td>\n",
       "      <td>50</td>\n",
       "    </tr>\n",
       "    <tr>\n",
       "      <th>5</th>\n",
       "      <td>BOBBY</td>\n",
       "      <td>60</td>\n",
       "    </tr>\n",
       "  </tbody>\n",
       "</table>\n",
       "</div>"
      ],
      "text/plain": [
       "       A   B\n",
       "0    BOB  10\n",
       "1    BOB  20\n",
       "2    BOB  30\n",
       "3  BOBBY  40\n",
       "4  BOBBY  50\n",
       "5  BOBBY  60"
      ]
     },
     "execution_count": 8,
     "metadata": {},
     "output_type": "execute_result"
    }
   ],
   "source": [
    "subhd.fillna(method='ffill')"
   ]
  },
  {
   "cell_type": "code",
   "execution_count": null,
   "id": "76f52ae1",
   "metadata": {},
   "outputs": [],
   "source": []
  }
 ],
 "metadata": {
  "kernelspec": {
   "display_name": "Python 3 (ipykernel)",
   "language": "python",
   "name": "python3"
  },
  "language_info": {
   "codemirror_mode": {
    "name": "ipython",
    "version": 3
   },
   "file_extension": ".py",
   "mimetype": "text/x-python",
   "name": "python",
   "nbconvert_exporter": "python",
   "pygments_lexer": "ipython3",
   "version": "3.9.7"
  }
 },
 "nbformat": 4,
 "nbformat_minor": 5
}
